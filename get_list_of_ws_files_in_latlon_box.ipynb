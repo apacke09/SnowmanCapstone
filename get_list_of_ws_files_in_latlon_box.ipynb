{
 "cells": [
  {
   "cell_type": "markdown",
   "metadata": {},
   "source": [
    "## Read raw weather station data to find out which files have data within my latitiude/longitude box"
   ]
  },
  {
   "cell_type": "code",
   "execution_count": 35,
   "metadata": {},
   "outputs": [],
   "source": [
    "# needed for file operations\n",
    "import os\n",
    "\n",
    "# needed for data manipulation\n",
    "import pandas as pd"
   ]
  },
  {
   "cell_type": "code",
   "execution_count": 36,
   "metadata": {},
   "outputs": [],
   "source": [
    "list_of_all_files = []\n",
    "list_of_files_to_keep = []\n",
    "dir_with_raw_data_files = \"F:/Libraries/My Documents/UM/Capstone/RawData\"\n",
    "NORTHMOST = 49.345786\n",
    "SOUTHMOST = 24.396308  \n",
    "WESTMOST = -125.000000\n",
    "EASTMOST = -66.93457\n",
    "\n",
    "# get all files in the directory\n",
    "list_of_all_files = os.listdir(dir_with_raw_data_files)\n",
    "\n"
   ]
  },
  {
   "cell_type": "code",
   "execution_count": 37,
   "metadata": {},
   "outputs": [
    {
     "name": "stdout",
     "output_type": "stream",
     "text": [
      "Processing file 1000 of 129648\n",
      "Processing file 2000 of 129648\n",
      "Processing file 3000 of 129648\n",
      "Processing file 4000 of 129648\n",
      "Processing file 5000 of 129648\n",
      "Processing file 6000 of 129648\n",
      "Processing file 7000 of 129648\n",
      "Processing file 8000 of 129648\n",
      "Processing file 9000 of 129648\n",
      "Processing file 10000 of 129648\n",
      "Processing file 11000 of 129648\n",
      "Processing file 12000 of 129648\n",
      "Processing file 13000 of 129648\n",
      "Processing file 14000 of 129648\n",
      "Processing file 15000 of 129648\n",
      "Processing file 16000 of 129648\n",
      "Processing file 17000 of 129648\n",
      "Processing file 18000 of 129648\n",
      "Processing file 19000 of 129648\n",
      "Processing file 20000 of 129648\n",
      "Processing file 21000 of 129648\n",
      "Processing file 22000 of 129648\n",
      "Processing file 23000 of 129648\n",
      "Processing file 24000 of 129648\n",
      "Processing file 25000 of 129648\n",
      "Processing file 26000 of 129648\n",
      "Processing file 27000 of 129648\n",
      "Processing file 28000 of 129648\n",
      "Processing file 29000 of 129648\n",
      "Processing file 30000 of 129648\n",
      "Processing file 31000 of 129648\n",
      "Processing file 32000 of 129648\n",
      "Processing file 33000 of 129648\n",
      "Processing file 34000 of 129648\n",
      "Processing file 35000 of 129648\n",
      "Processing file 36000 of 129648\n",
      "Processing file 37000 of 129648\n",
      "Processing file 38000 of 129648\n",
      "Processing file 39000 of 129648\n",
      "Processing file 40000 of 129648\n",
      "Processing file 41000 of 129648\n",
      "Processing file 42000 of 129648\n",
      "Processing file 43000 of 129648\n",
      "Processing file 44000 of 129648\n",
      "Processing file 45000 of 129648\n",
      "Processing file 46000 of 129648\n",
      "Processing file 47000 of 129648\n",
      "Processing file 48000 of 129648\n",
      "Processing file 49000 of 129648\n",
      "Processing file 50000 of 129648\n",
      "Processing file 51000 of 129648\n",
      "Processing file 52000 of 129648\n",
      "Processing file 53000 of 129648\n",
      "Processing file 54000 of 129648\n",
      "Processing file 55000 of 129648\n",
      "Processing file 56000 of 129648\n",
      "Processing file 57000 of 129648\n",
      "Processing file 58000 of 129648\n",
      "Processing file 59000 of 129648\n",
      "Processing file 60000 of 129648\n",
      "Processing file 61000 of 129648\n",
      "Processing file 62000 of 129648\n",
      "Processing file 63000 of 129648\n",
      "Processing file 64000 of 129648\n",
      "Processing file 65000 of 129648\n",
      "Processing file 66000 of 129648\n",
      "Processing file 67000 of 129648\n",
      "Processing file 68000 of 129648\n",
      "Processing file 69000 of 129648\n",
      "Processing file 70000 of 129648\n",
      "Processing file 71000 of 129648\n",
      "Processing file 72000 of 129648\n",
      "Processing file 73000 of 129648\n",
      "Processing file 74000 of 129648\n",
      "Processing file 75000 of 129648\n",
      "Processing file 76000 of 129648\n",
      "Processing file 77000 of 129648\n",
      "Processing file 78000 of 129648\n",
      "Processing file 79000 of 129648\n",
      "Processing file 80000 of 129648\n",
      "Processing file 81000 of 129648\n",
      "Processing file 82000 of 129648\n",
      "Processing file 83000 of 129648\n",
      "Processing file 84000 of 129648\n",
      "Processing file 85000 of 129648\n",
      "Processing file 86000 of 129648\n",
      "Processing file 87000 of 129648\n",
      "Processing file 88000 of 129648\n",
      "Processing file 89000 of 129648\n",
      "Processing file 90000 of 129648\n",
      "Processing file 91000 of 129648\n",
      "Processing file 92000 of 129648\n",
      "Processing file 93000 of 129648\n",
      "Processing file 94000 of 129648\n",
      "Processing file 95000 of 129648\n",
      "Processing file 96000 of 129648\n",
      "Processing file 97000 of 129648\n",
      "Processing file 98000 of 129648\n",
      "Processing file 99000 of 129648\n",
      "Processing file 100000 of 129648\n",
      "Processing file 101000 of 129648\n",
      "Processing file 102000 of 129648\n",
      "Processing file 103000 of 129648\n",
      "Processing file 104000 of 129648\n",
      "Processing file 105000 of 129648\n",
      "Processing file 106000 of 129648\n",
      "Processing file 107000 of 129648\n",
      "Processing file 108000 of 129648\n",
      "Processing file 109000 of 129648\n",
      "Processing file 110000 of 129648\n",
      "Processing file 111000 of 129648\n",
      "Processing file 112000 of 129648\n",
      "Processing file 113000 of 129648\n",
      "Processing file 114000 of 129648\n",
      "Processing file 115000 of 129648\n",
      "Processing file 116000 of 129648\n",
      "Processing file 117000 of 129648\n",
      "Processing file 118000 of 129648\n",
      "Processing file 119000 of 129648\n",
      "Processing file 120000 of 129648\n",
      "Processing file 121000 of 129648\n",
      "Processing file 122000 of 129648\n",
      "Processing file 123000 of 129648\n",
      "Processing file 124000 of 129648\n",
      "Processing file 125000 of 129648\n",
      "Processing file 126000 of 129648\n",
      "Processing file 127000 of 129648\n",
      "Processing file 128000 of 129648\n",
      "Processing file 129000 of 129648\n"
     ]
    }
   ],
   "source": [
    "# find the files that have data within the specified lat/lon range\n",
    "i = 0\n",
    "for file in list_of_all_files:\n",
    "    i += 1\n",
    "    if i % 1000 == 0:\n",
    "        print(f\"Processing file {i} of {len(list_of_all_files)}\")\n",
    "    file_path = os.path.join(dir_with_raw_data_files, file)\n",
    "    df = pd.read_csv(file_path, low_memory=False)\n",
    "    latitude = df.iloc[0]['LATITUDE']\n",
    "    longitude = df.iloc[0]['LONGITUDE']\n",
    "    if latitude >= SOUTHMOST and latitude <= NORTHMOST and longitude >= WESTMOST and longitude <= EASTMOST:\n",
    "        list_of_files_to_keep.append(file)"
   ]
  },
  {
   "cell_type": "code",
   "execution_count": 38,
   "metadata": {},
   "outputs": [
    {
     "name": "stdout",
     "output_type": "stream",
     "text": [
      "78956\n"
     ]
    }
   ],
   "source": [
    "print(len(list_of_files_to_keep))"
   ]
  },
  {
   "cell_type": "code",
   "execution_count": null,
   "metadata": {},
   "outputs": [],
   "source": [
    "file_path = \"F:/Libraries/My Documents/UM/Capstone/datafiles_in_range.txt\"\n",
    "with open(file_path, 'w') as f:\n",
    "    for file in list_of_files_to_keep:\n",
    "        f.write(file + \"\\n\")"
   ]
  },
  {
   "cell_type": "code",
   "execution_count": null,
   "metadata": {},
   "outputs": [],
   "source": []
  }
 ],
 "metadata": {
  "kernelspec": {
   "display_name": "Python 3",
   "language": "python",
   "name": "python3"
  },
  "language_info": {
   "codemirror_mode": {
    "name": "ipython",
    "version": 3
   },
   "file_extension": ".py",
   "mimetype": "text/x-python",
   "name": "python",
   "nbconvert_exporter": "python",
   "pygments_lexer": "ipython3",
   "version": "3.9.13"
  }
 },
 "nbformat": 4,
 "nbformat_minor": 2
}
